{
  "nbformat": 4,
  "nbformat_minor": 0,
  "metadata": {
    "colab": {
      "provenance": [],
      "authorship_tag": "ABX9TyPhBxUANP4hSf4MSH7rcM2w",
      "include_colab_link": true
    },
    "kernelspec": {
      "name": "python3",
      "display_name": "Python 3"
    },
    "language_info": {
      "name": "python"
    }
  },
  "cells": [
    {
      "cell_type": "markdown",
      "metadata": {
        "id": "view-in-github",
        "colab_type": "text"
      },
      "source": [
        "<a href=\"https://colab.research.google.com/github/arnautoleg/Bologan_Alina/blob/main/Bologan_Alina_Randomizare.ipynb\" target=\"_parent\"><img src=\"https://colab.research.google.com/assets/colab-badge.svg\" alt=\"Open In Colab\"/></a>"
      ]
    },
    {
      "cell_type": "code",
      "source": [
        "import random\n",
        "random.seed(0)\n",
        "\n",
        "# Generate a random list of length 100 with 50/50 probability for control and study group\n",
        "random_list = [random.choice(['control', 'studiu']) for _ in range(100)]\n",
        "\n",
        "print(random_list)\n"
      ],
      "metadata": {
        "colab": {
          "base_uri": "https://localhost:8080/"
        },
        "id": "f5CPut_tzxNk",
        "outputId": "58f3184c-f868-43b1-bce0-af1beb974d5d"
      },
      "execution_count": 1,
      "outputs": [
        {
          "output_type": "stream",
          "name": "stdout",
          "text": [
            "['studiu', 'studiu', 'control', 'studiu', 'studiu', 'studiu', 'studiu', 'studiu', 'studiu', 'control', 'control', 'studiu', 'control', 'control', 'studiu', 'control', 'studiu', 'control', 'control', 'studiu', 'studiu', 'control', 'studiu', 'studiu', 'studiu', 'control', 'studiu', 'studiu', 'studiu', 'control', 'control', 'control', 'studiu', 'control', 'studiu', 'studiu', 'control', 'studiu', 'control', 'control', 'control', 'control', 'control', 'studiu', 'control', 'control', 'studiu', 'studiu', 'control', 'studiu', 'studiu', 'control', 'studiu', 'control', 'studiu', 'studiu', 'control', 'studiu', 'studiu', 'control', 'studiu', 'control', 'control', 'control', 'control', 'studiu', 'studiu', 'control', 'control', 'control', 'control', 'control', 'control', 'studiu', 'studiu', 'control', 'control', 'studiu', 'studiu', 'studiu', 'studiu', 'studiu', 'control', 'studiu', 'control', 'studiu', 'studiu', 'control', 'control', 'control', 'studiu', 'control', 'control', 'studiu', 'control', 'studiu', 'studiu', 'control', 'control', 'control']\n"
          ]
        }
      ]
    },
    {
      "cell_type": "code",
      "source": [
        "count_control = random_list.count('control')\n",
        "count_studiu = random_list.count('studiu')\n",
        "\n",
        "print(\"Volumul esantionului in lotul de control:\", count_control)\n",
        "print(\"Volumul esantionului in lotul de studiu:\", count_studiu)\n"
      ],
      "metadata": {
        "colab": {
          "base_uri": "https://localhost:8080/"
        },
        "id": "LgV9L4YwVwuw",
        "outputId": "deadf0aa-9cf9-4ec1-d9b4-56974b594466"
      },
      "execution_count": 2,
      "outputs": [
        {
          "output_type": "stream",
          "name": "stdout",
          "text": [
            "Volumul esantionului in lotul de control: 50\n",
            "Volumul esantionului in lotul de studiu: 50\n"
          ]
        }
      ]
    },
    {
      "cell_type": "code",
      "source": [
        "random_ = ['studiu', 'studiu', 'control', 'studiu', 'studiu', 'studiu', 'studiu', 'studiu', 'studiu', 'control',\n",
        " 'control', 'studiu', 'control', 'control', 'studiu', 'control', 'studiu', 'control', 'control', 'studiu',\n",
        " 'studiu', 'control', 'studiu', 'studiu', 'studiu', 'control', 'studiu', 'studiu', 'studiu', 'control',\n",
        " 'control', 'control', 'studiu', 'control', 'studiu', 'studiu', 'control', 'studiu', 'control', 'control',\n",
        " 'control', 'control', 'control', 'studiu', 'control', 'control', 'studiu', 'studiu', 'control', 'studiu',\n",
        " 'studiu', 'control', 'studiu', 'control', 'studiu', 'studiu', 'control', 'studiu', 'studiu', 'control',\n",
        " 'studiu', 'control', 'control', 'control', 'control', 'studiu', 'studiu', 'control', 'control', 'control',\n",
        " 'control', 'control', 'control', 'studiu', 'studiu', 'control', 'control', 'studiu', 'studiu', 'studiu',\n",
        " 'studiu', 'studiu', 'control', 'studiu', 'control', 'studiu', 'studiu', 'control', 'control', 'control',\n",
        " 'studiu', 'control', 'control', 'studiu', 'control', 'studiu', 'studiu', 'control', 'control', 'control']"
      ],
      "metadata": {
        "id": "pOoU8Q3AXFzo"
      },
      "execution_count": 3,
      "outputs": []
    },
    {
      "cell_type": "code",
      "source": [
        "#df = pd.DataFrame(my_list, columns=column_names)"
      ],
      "metadata": {
        "id": "VmpSgq6J5-K3"
      },
      "execution_count": 4,
      "outputs": []
    },
    {
      "cell_type": "code",
      "source": [
        "import pandas as pd\n",
        "df = pd.DataFrame(random_, columns=['Random'])\n",
        "\n",
        "df['Index'] = range(1, 101)\n",
        "\n",
        "df = df[['Index', 'Random']]\n",
        "\n",
        "df.to_excel('random_Bologan_Alina.xlsx', index=False)\n"
      ],
      "metadata": {
        "id": "gQk4d3Am4hjq"
      },
      "execution_count": 5,
      "outputs": []
    }
  ]
}