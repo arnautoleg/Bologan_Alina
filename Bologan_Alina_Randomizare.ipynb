{
  "nbformat": 4,
  "nbformat_minor": 0,
  "metadata": {
    "colab": {
      "provenance": [],
      "authorship_tag": "ABX9TyON8P4dF5AnzRiWRmIf9B4a",
      "include_colab_link": true
    },
    "kernelspec": {
      "name": "python3",
      "display_name": "Python 3"
    },
    "language_info": {
      "name": "python"
    }
  },
  "cells": [
    {
      "cell_type": "markdown",
      "metadata": {
        "id": "view-in-github",
        "colab_type": "text"
      },
      "source": [
        "<a href=\"https://colab.research.google.com/github/arnautoleg/Bologan_Alina/blob/main/Bologan_Alina_Randomizare.ipynb\" target=\"_parent\"><img src=\"https://colab.research.google.com/assets/colab-badge.svg\" alt=\"Open In Colab\"/></a>"
      ]
    },
    {
      "cell_type": "code",
      "source": [
        "import random\n",
        "random.seed(0)\n",
        "\n",
        "# Generate a random list of length 100 with 50/50 probability for control and study group\n",
        "random_list = [random.choice(['control', 'studiu']) for _ in range(100)]\n",
        "\n",
        "print(random_list)\n"
      ],
      "metadata": {
        "colab": {
          "base_uri": "https://localhost:8080/"
        },
        "id": "f5CPut_tzxNk",
        "outputId": "47c735e6-ee06-4acc-900e-c6c29130350c"
      },
      "execution_count": 14,
      "outputs": [
        {
          "output_type": "stream",
          "name": "stdout",
          "text": [
            "['studiu', 'studiu', 'control', 'studiu', 'studiu', 'studiu', 'studiu', 'studiu', 'studiu', 'control', 'control', 'studiu', 'control', 'control', 'studiu', 'control', 'studiu', 'control', 'control', 'studiu', 'studiu', 'control', 'studiu', 'studiu', 'studiu', 'control', 'studiu', 'studiu', 'studiu', 'control', 'control', 'control', 'studiu', 'control', 'studiu', 'studiu', 'control', 'studiu', 'control', 'control', 'control', 'control', 'control', 'studiu', 'control', 'control', 'studiu', 'studiu', 'control', 'studiu', 'studiu', 'control', 'studiu', 'control', 'studiu', 'studiu', 'control', 'studiu', 'studiu', 'control', 'studiu', 'control', 'control', 'control', 'control', 'studiu', 'studiu', 'control', 'control', 'control', 'control', 'control', 'control', 'studiu', 'studiu', 'control', 'control', 'studiu', 'studiu', 'studiu', 'studiu', 'studiu', 'control', 'studiu', 'control', 'studiu', 'studiu', 'control', 'control', 'control', 'studiu', 'control', 'control', 'studiu', 'control', 'studiu', 'studiu', 'control', 'control', 'control']\n"
          ]
        }
      ]
    },
    {
      "cell_type": "code",
      "source": [
        "count_control = random_list.count('control')\n",
        "count_studiu = random_list.count('studiu')\n",
        "\n",
        "print(\"Volumul esantionului in lotul de control:\", count_control)\n",
        "print(\"Volumul esantionului in lotul de studiu:\", count_studiu)\n"
      ],
      "metadata": {
        "colab": {
          "base_uri": "https://localhost:8080/"
        },
        "id": "LgV9L4YwVwuw",
        "outputId": "0df44ca2-d0bd-4b6f-9c9a-9e437bab949f"
      },
      "execution_count": 15,
      "outputs": [
        {
          "output_type": "stream",
          "name": "stdout",
          "text": [
            "Volumul esantionului in lotul de control: 50\n",
            "Volumul esantionului in lotul de studiu: 50\n"
          ]
        }
      ]
    },
    {
      "cell_type": "code",
      "source": [
        "['studiu', 'studiu', 'control', 'studiu', 'studiu', 'studiu', 'studiu', 'studiu', 'studiu', 'control',\n",
        " 'control', 'studiu', 'control', 'control', 'studiu', 'control', 'studiu', 'control', 'control', 'studiu',\n",
        " 'studiu', 'control', 'studiu', 'studiu', 'studiu', 'control', 'studiu', 'studiu', 'studiu', 'control',\n",
        " 'control', 'control', 'studiu', 'control', 'studiu', 'studiu', 'control', 'studiu', 'control', 'control',\n",
        " 'control', 'control', 'control', 'studiu', 'control', 'control', 'studiu', 'studiu', 'control', 'studiu',\n",
        " 'studiu', 'control', 'studiu', 'control', 'studiu', 'studiu', 'control', 'studiu', 'studiu', 'control',\n",
        " 'studiu', 'control', 'control', 'control', 'control', 'studiu', 'studiu', 'control', 'control', 'control',\n",
        " 'control', 'control', 'control', 'studiu', 'studiu', 'control', 'control', 'studiu', 'studiu', 'studiu',\n",
        " 'studiu', 'studiu', 'control', 'studiu', 'control', 'studiu', 'studiu', 'control', 'control', 'control',\n",
        " 'studiu', 'control', 'control', 'studiu', 'control', 'studiu', 'studiu', 'control', 'control', 'control']"
      ],
      "metadata": {
        "id": "pOoU8Q3AXFzo"
      },
      "execution_count": null,
      "outputs": []
    }
  ]
}